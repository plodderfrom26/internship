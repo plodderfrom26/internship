{
 "cells": [
  {
   "cell_type": "code",
   "execution_count": 1,
   "id": "c23d5540-d13a-4266-85de-e7c419fdd12d",
   "metadata": {},
   "outputs": [],
   "source": [
    "import pandas as pd\n",
    "import numpy as np\n",
    "\n",
    "from catboost import CatBoostRanker, Pool\n",
    "from sklearn.model_selection import train_test_split\n",
    "from sklearn.metrics import ndcg_score"
   ]
  },
  {
   "cell_type": "markdown",
   "id": "f433f309-8fe8-44a6-9cbc-2e9d17764cb9",
   "metadata": {},
   "source": [
    "---\n",
    "\n",
    "Загружу данные и посмотрю на них"
   ]
  },
  {
   "cell_type": "code",
   "execution_count": 2,
   "id": "8a8bf743-9657-4d0c-bcad-36be58416215",
   "metadata": {
    "scrolled": true
   },
   "outputs": [
    {
     "data": {
      "text/html": [
       "<div>\n",
       "<style scoped>\n",
       "    .dataframe tbody tr th:only-of-type {\n",
       "        vertical-align: middle;\n",
       "    }\n",
       "\n",
       "    .dataframe tbody tr th {\n",
       "        vertical-align: top;\n",
       "    }\n",
       "\n",
       "    .dataframe thead th {\n",
       "        text-align: right;\n",
       "    }\n",
       "</style>\n",
       "<table border=\"1\" class=\"dataframe\">\n",
       "  <thead>\n",
       "    <tr style=\"text-align: right;\">\n",
       "      <th></th>\n",
       "      <th>rank</th>\n",
       "      <th>query_id</th>\n",
       "      <th>feature_0</th>\n",
       "      <th>feature_1</th>\n",
       "      <th>feature_2</th>\n",
       "      <th>feature_3</th>\n",
       "      <th>feature_4</th>\n",
       "      <th>feature_5</th>\n",
       "      <th>feature_6</th>\n",
       "      <th>feature_7</th>\n",
       "      <th>...</th>\n",
       "      <th>feature_134</th>\n",
       "      <th>feature_135</th>\n",
       "      <th>feature_136</th>\n",
       "      <th>feature_137</th>\n",
       "      <th>feature_138</th>\n",
       "      <th>feature_139</th>\n",
       "      <th>feature_140</th>\n",
       "      <th>feature_141</th>\n",
       "      <th>feature_142</th>\n",
       "      <th>feature_143</th>\n",
       "    </tr>\n",
       "  </thead>\n",
       "  <tbody>\n",
       "    <tr>\n",
       "      <th>0</th>\n",
       "      <td>0</td>\n",
       "      <td>10</td>\n",
       "      <td>1.0</td>\n",
       "      <td>0.0</td>\n",
       "      <td>1.0</td>\n",
       "      <td>3.0</td>\n",
       "      <td>3.0</td>\n",
       "      <td>0.333333</td>\n",
       "      <td>0.0</td>\n",
       "      <td>0.333333</td>\n",
       "      <td>...</td>\n",
       "      <td>0.0</td>\n",
       "      <td>0.000000</td>\n",
       "      <td>0.454545</td>\n",
       "      <td>0.890238</td>\n",
       "      <td>8.655534</td>\n",
       "      <td>1.000000</td>\n",
       "      <td>0.077778</td>\n",
       "      <td>0.002222</td>\n",
       "      <td>1.0</td>\n",
       "      <td>0.333333</td>\n",
       "    </tr>\n",
       "    <tr>\n",
       "      <th>1</th>\n",
       "      <td>1</td>\n",
       "      <td>10</td>\n",
       "      <td>3.0</td>\n",
       "      <td>0.0</td>\n",
       "      <td>3.0</td>\n",
       "      <td>0.0</td>\n",
       "      <td>3.0</td>\n",
       "      <td>1.000000</td>\n",
       "      <td>0.0</td>\n",
       "      <td>1.000000</td>\n",
       "      <td>...</td>\n",
       "      <td>0.0</td>\n",
       "      <td>0.000000</td>\n",
       "      <td>0.000000</td>\n",
       "      <td>0.773976</td>\n",
       "      <td>23.130514</td>\n",
       "      <td>0.000000</td>\n",
       "      <td>0.027826</td>\n",
       "      <td>0.000430</td>\n",
       "      <td>44.0</td>\n",
       "      <td>14.666667</td>\n",
       "    </tr>\n",
       "    <tr>\n",
       "      <th>2</th>\n",
       "      <td>0</td>\n",
       "      <td>10</td>\n",
       "      <td>3.0</td>\n",
       "      <td>0.0</td>\n",
       "      <td>2.0</td>\n",
       "      <td>0.0</td>\n",
       "      <td>3.0</td>\n",
       "      <td>1.000000</td>\n",
       "      <td>0.0</td>\n",
       "      <td>0.666667</td>\n",
       "      <td>...</td>\n",
       "      <td>0.0</td>\n",
       "      <td>0.000000</td>\n",
       "      <td>0.000000</td>\n",
       "      <td>0.918308</td>\n",
       "      <td>13.351339</td>\n",
       "      <td>0.000000</td>\n",
       "      <td>0.014925</td>\n",
       "      <td>0.000104</td>\n",
       "      <td>22.0</td>\n",
       "      <td>7.333333</td>\n",
       "    </tr>\n",
       "    <tr>\n",
       "      <th>3</th>\n",
       "      <td>1</td>\n",
       "      <td>10</td>\n",
       "      <td>3.0</td>\n",
       "      <td>0.0</td>\n",
       "      <td>3.0</td>\n",
       "      <td>0.0</td>\n",
       "      <td>3.0</td>\n",
       "      <td>1.000000</td>\n",
       "      <td>0.0</td>\n",
       "      <td>1.000000</td>\n",
       "      <td>...</td>\n",
       "      <td>0.0</td>\n",
       "      <td>0.000000</td>\n",
       "      <td>0.000000</td>\n",
       "      <td>0.975355</td>\n",
       "      <td>18.240926</td>\n",
       "      <td>0.000000</td>\n",
       "      <td>0.053140</td>\n",
       "      <td>0.000255</td>\n",
       "      <td>8.0</td>\n",
       "      <td>2.666667</td>\n",
       "    </tr>\n",
       "    <tr>\n",
       "      <th>4</th>\n",
       "      <td>2</td>\n",
       "      <td>10</td>\n",
       "      <td>3.0</td>\n",
       "      <td>0.0</td>\n",
       "      <td>3.0</td>\n",
       "      <td>1.0</td>\n",
       "      <td>3.0</td>\n",
       "      <td>1.000000</td>\n",
       "      <td>0.0</td>\n",
       "      <td>1.000000</td>\n",
       "      <td>...</td>\n",
       "      <td>273.0</td>\n",
       "      <td>79.670665</td>\n",
       "      <td>0.200000</td>\n",
       "      <td>0.990119</td>\n",
       "      <td>31.786048</td>\n",
       "      <td>0.333333</td>\n",
       "      <td>0.046512</td>\n",
       "      <td>0.000307</td>\n",
       "      <td>24.0</td>\n",
       "      <td>8.000000</td>\n",
       "    </tr>\n",
       "  </tbody>\n",
       "</table>\n",
       "<p>5 rows × 146 columns</p>\n",
       "</div>"
      ],
      "text/plain": [
       "   rank  query_id  feature_0  feature_1  feature_2  feature_3  feature_4  \\\n",
       "0     0        10        1.0        0.0        1.0        3.0        3.0   \n",
       "1     1        10        3.0        0.0        3.0        0.0        3.0   \n",
       "2     0        10        3.0        0.0        2.0        0.0        3.0   \n",
       "3     1        10        3.0        0.0        3.0        0.0        3.0   \n",
       "4     2        10        3.0        0.0        3.0        1.0        3.0   \n",
       "\n",
       "   feature_5  feature_6  feature_7  ...  feature_134  feature_135  \\\n",
       "0   0.333333        0.0   0.333333  ...          0.0     0.000000   \n",
       "1   1.000000        0.0   1.000000  ...          0.0     0.000000   \n",
       "2   1.000000        0.0   0.666667  ...          0.0     0.000000   \n",
       "3   1.000000        0.0   1.000000  ...          0.0     0.000000   \n",
       "4   1.000000        0.0   1.000000  ...        273.0    79.670665   \n",
       "\n",
       "   feature_136  feature_137  feature_138  feature_139  feature_140  \\\n",
       "0     0.454545     0.890238     8.655534     1.000000     0.077778   \n",
       "1     0.000000     0.773976    23.130514     0.000000     0.027826   \n",
       "2     0.000000     0.918308    13.351339     0.000000     0.014925   \n",
       "3     0.000000     0.975355    18.240926     0.000000     0.053140   \n",
       "4     0.200000     0.990119    31.786048     0.333333     0.046512   \n",
       "\n",
       "   feature_141  feature_142  feature_143  \n",
       "0     0.002222          1.0     0.333333  \n",
       "1     0.000430         44.0    14.666667  \n",
       "2     0.000104         22.0     7.333333  \n",
       "3     0.000255          8.0     2.666667  \n",
       "4     0.000307         24.0     8.000000  \n",
       "\n",
       "[5 rows x 146 columns]"
      ]
     },
     "execution_count": 2,
     "metadata": {},
     "output_type": "execute_result"
    }
   ],
   "source": [
    "df = pd.read_csv('intern_task.csv')\n",
    "df.head()"
   ]
  },
  {
   "cell_type": "code",
   "execution_count": 3,
   "id": "645fb810-955f-4e32-85b3-54a9a7d6a7fb",
   "metadata": {},
   "outputs": [
    {
     "data": {
      "text/plain": [
       "(235258, 146)"
      ]
     },
     "execution_count": 3,
     "metadata": {},
     "output_type": "execute_result"
    }
   ],
   "source": [
    "df.shape"
   ]
  },
  {
   "cell_type": "markdown",
   "id": "be3ed618-c119-4ace-988d-9edfe0c5ce24",
   "metadata": {},
   "source": [
    "Проверю, есть ли пропуски"
   ]
  },
  {
   "cell_type": "code",
   "execution_count": 4,
   "id": "0854b0af-81b4-4ece-b99e-0f1ecf213fce",
   "metadata": {},
   "outputs": [
    {
     "data": {
      "text/plain": [
       "array([0], dtype=int64)"
      ]
     },
     "execution_count": 4,
     "metadata": {},
     "output_type": "execute_result"
    }
   ],
   "source": [
    "df.isnull().sum().unique()"
   ]
  },
  {
   "cell_type": "markdown",
   "id": "e6c2f8e1-e1ac-43f8-8eae-682846df4e2f",
   "metadata": {},
   "source": [
    "Пропусков нет - приятно. Посмотрю на множества значения признаков"
   ]
  },
  {
   "cell_type": "code",
   "execution_count": 5,
   "id": "adc2f4cb-6aca-4581-af77-dae6c8659f78",
   "metadata": {
    "scrolled": true
   },
   "outputs": [
    {
     "name": "stdout",
     "output_type": "stream",
     "text": [
      "rank: 5\n",
      "query_id: 2000\n",
      "feature_0: 16\n",
      "feature_1: 10\n",
      "feature_2: 15\n",
      "feature_3: 10\n",
      "feature_4: 16\n",
      "feature_5: 44\n",
      "feature_6: 25\n",
      "feature_7: 32\n",
      "feature_8: 235258\n",
      "feature_9: 44\n",
      "feature_10: 5124\n",
      "feature_11: 156\n",
      "feature_12: 281\n",
      "feature_13: 60\n",
      "feature_14: 5174\n",
      "feature_15: 1903\n",
      "feature_16: 1790\n",
      "feature_17: 1809\n",
      "feature_18: 1813\n",
      "feature_19: 1901\n",
      "feature_20: 235258\n",
      "feature_21: 54\n",
      "feature_22: 73\n",
      "feature_23: 13\n",
      "feature_24: 532\n",
      "feature_25: 215\n",
      "feature_26: 26\n",
      "feature_27: 24\n",
      "feature_28: 10\n",
      "feature_29: 216\n",
      "feature_30: 387\n",
      "feature_31: 35\n",
      "feature_32: 60\n",
      "feature_33: 11\n",
      "feature_34: 386\n",
      "feature_35: 235258\n",
      "feature_36: 125\n",
      "feature_37: 153\n",
      "feature_38: 53\n",
      "feature_39: 1464\n",
      "feature_40: 8204\n",
      "feature_41: 226\n",
      "feature_42: 290\n",
      "feature_43: 59\n",
      "feature_44: 8696\n",
      "feature_45: 47103\n",
      "feature_46: 555\n",
      "feature_47: 700\n",
      "feature_48: 235258\n",
      "feature_49: 50128\n",
      "feature_50: 22222\n",
      "feature_51: 298\n",
      "feature_52: 360\n",
      "feature_53: 77\n",
      "feature_54: 24042\n",
      "feature_55: 37626\n",
      "feature_56: 435\n",
      "feature_57: 563\n",
      "feature_58: 111\n",
      "feature_59: 39618\n",
      "feature_60: 39129\n",
      "feature_61: 702\n",
      "feature_62: 936\n",
      "feature_63: 313\n",
      "feature_64: 1\n",
      "feature_65: 1\n",
      "feature_66: 972\n",
      "feature_67: 1383\n",
      "feature_68: 459\n",
      "feature_69: 4874\n",
      "feature_70: 127357\n",
      "feature_71: 8705\n",
      "feature_72: 1\n",
      "feature_73: 7728\n",
      "feature_74: 134650\n",
      "feature_75: 30724\n",
      "feature_76: 2390\n",
      "feature_77: 2961\n",
      "feature_78: 1531\n",
      "feature_79: 33121\n",
      "feature_80: 61283\n",
      "feature_81: 5424\n",
      "feature_82: 6780\n",
      "feature_83: 3805\n",
      "feature_84: 64843\n",
      "feature_85: 127923\n",
      "feature_86: 9399\n",
      "feature_87: 16844\n",
      "feature_88: 8611\n",
      "feature_89: 135276\n",
      "feature_90: 118551\n",
      "feature_91: 8631\n",
      "feature_92: 16192\n",
      "feature_93: 8173\n",
      "feature_94: 125097\n",
      "feature_95: 2\n",
      "feature_96: 2\n",
      "feature_97: 2\n",
      "feature_98: 2\n",
      "feature_99: 2\n",
      "feature_100: 1\n",
      "feature_101: 5567\n",
      "feature_102: 11836\n",
      "feature_103: 6670\n",
      "feature_104: 85663\n",
      "feature_105: 192154\n",
      "feature_106: 18900\n",
      "feature_107: 58140\n",
      "feature_108: 28961\n",
      "feature_109: 206039\n",
      "feature_110: 192331\n",
      "feature_111: 20535\n",
      "feature_112: 68955\n",
      "feature_113: 34464\n",
      "feature_114: 206051\n",
      "feature_115: 191744\n",
      "feature_116: 20474\n",
      "feature_117: 63166\n",
      "feature_118: 33007\n",
      "feature_119: 205419\n",
      "feature_120: 186488\n",
      "feature_121: 16956\n",
      "feature_122: 53686\n",
      "feature_123: 28626\n",
      "feature_124: 198257\n",
      "feature_125: 19\n",
      "feature_126: 290\n",
      "feature_127: 11338\n",
      "feature_128: 120\n",
      "feature_129: 54167\n",
      "feature_130: 52183\n",
      "feature_131: 254\n",
      "feature_132: 253\n",
      "feature_133: 1887\n",
      "feature_134: 2244\n",
      "feature_135: 25333\n",
      "feature_136: 162\n",
      "feature_137: 82379\n",
      "feature_138: 15817\n",
      "feature_139: 29\n",
      "feature_140: 41864\n",
      "feature_141: 4703\n",
      "feature_142: 529\n",
      "feature_143: 1431\n"
     ]
    }
   ],
   "source": [
    "for col in df.columns:\n",
    "    print(f\"{col}:\", len(df[col].unique()))"
   ]
  },
  {
   "cell_type": "markdown",
   "id": "096e2d8c-ea21-4ac3-828c-95703c055747",
   "metadata": {},
   "source": [
    "Вижу, что многие признаки категориальные (ничего делать не нужно, так как я буду использовать CatBoost), а также есть признаки с единственным значением - уберу их"
   ]
  },
  {
   "cell_type": "code",
   "execution_count": 6,
   "id": "bbf748d1-63fe-42bf-aae4-8166864cff1f",
   "metadata": {},
   "outputs": [],
   "source": [
    "for col in df.columns:\n",
    "    if len(df[col].unique()) == 1:\n",
    "        df.drop([col], axis=1, inplace=True)"
   ]
  },
  {
   "cell_type": "markdown",
   "id": "77404df1-6dfd-4671-a674-887423092350",
   "metadata": {},
   "source": [
    "Удалю уникальные 'query_id', если такие есть"
   ]
  },
  {
   "cell_type": "code",
   "execution_count": 7,
   "id": "05c02005-7a5f-48b6-aa20-f1c75fd871d2",
   "metadata": {},
   "outputs": [],
   "source": [
    "def drop_unique_queries(df):\n",
    "    group_sizes = df.groupby('query_id').size()\n",
    "    valid_groups = group_sizes[group_sizes > 1].index\n",
    "    \n",
    "    return df[df['query_id'].isin(valid_groups)]"
   ]
  },
  {
   "cell_type": "code",
   "execution_count": 8,
   "id": "940da5e4-e61f-427d-99fd-cdc3fbd6f22a",
   "metadata": {},
   "outputs": [
    {
     "data": {
      "text/plain": [
       "(235255, 142)"
      ]
     },
     "execution_count": 8,
     "metadata": {},
     "output_type": "execute_result"
    }
   ],
   "source": [
    "df = drop_unique_queries(df)\n",
    "df.shape"
   ]
  },
  {
   "cell_type": "markdown",
   "id": "a1a7f6eb-14de-406c-af99-c77d91917d14",
   "metadata": {},
   "source": [
    "Нашлось целых три - и на том спасибо. Также отмечу, что не нужны ни нормализация, ни стандартизация, так как CatBoost под капотом использует градиентный бустинг на решающих деревьях, которые устойчивы к различиям в масштабе признаков. Ещё я не стал делать отбор признаков, так как их очень много.\n",
    "\n",
    "Теперь можно перейти к обучению модели. Для начала разделю выборки на обучающую и тестовую (валидационной не будет, потому что я не знаком с гиперпараметрами CatBoostRanker и не смогу тюнить их умнее, чем перебором по сетке, что было бы долго и неинтересно)"
   ]
  },
  {
   "cell_type": "code",
   "execution_count": 9,
   "id": "7fe06601-f0d6-4fdf-95b3-5446c36a73d5",
   "metadata": {},
   "outputs": [],
   "source": [
    "train_df, test_df = train_test_split(df, test_size=0.2, random_state=26)\n",
    "\n",
    "# группировка объектов по сессиям:\n",
    "train_df.sort_values(by=['query_id'], inplace=True)\n",
    "test_df.sort_values(by=['query_id'], inplace=True)\n",
    "\n",
    "X_train, y_train, queries_train = train_df.drop(['rank', 'query_id'], axis=1), train_df['rank'], train_df['query_id']\n",
    "X_test, y_test, queries_test = test_df.drop(['rank', 'query_id'], axis=1), test_df['rank'], test_df['query_id']"
   ]
  },
  {
   "cell_type": "markdown",
   "id": "defa8e86-d362-4017-bd21-187dda58bd97",
   "metadata": {},
   "source": [
    "Возможно здесь тоже получились уникальные 'query_id'. Если их будет немного (менее 0.1%), то просто удалю их (не стану придумывать сложных методов для разделения данных)"
   ]
  },
  {
   "cell_type": "code",
   "execution_count": 10,
   "id": "cd2ba063-528b-4599-b850-54dc7173f42a",
   "metadata": {},
   "outputs": [
    {
     "name": "stdout",
     "output_type": "stream",
     "text": [
      "188204 47051\n",
      "188203 47032\n"
     ]
    }
   ],
   "source": [
    "print(train_df.shape[0], test_df.shape[0])\n",
    "\n",
    "train_df = drop_unique_queries(train_df)\n",
    "test_df = drop_unique_queries(test_df)\n",
    "\n",
    "print(train_df.shape[0], test_df.shape[0])"
   ]
  },
  {
   "cell_type": "markdown",
   "id": "f74709dc-6d72-44a2-b22c-dc43eb4fb439",
   "metadata": {},
   "source": [
    "Построю модель"
   ]
  },
  {
   "cell_type": "code",
   "execution_count": 11,
   "id": "264334b6-df55-44f1-bb62-9cbd2a98c403",
   "metadata": {},
   "outputs": [],
   "source": [
    "train_pool = Pool(\n",
    "    data=X_train.values,\n",
    "    label=y_train.values,\n",
    "    group_id=queries_train.values\n",
    ")\n",
    "\n",
    "test_pool = Pool(\n",
    "    data=X_test.values,\n",
    "    label=y_test.values,\n",
    "    group_id=queries_test.values\n",
    ")"
   ]
  },
  {
   "cell_type": "code",
   "execution_count": 12,
   "id": "18605c7a-e094-40ae-aa28-adef8189d653",
   "metadata": {},
   "outputs": [],
   "source": [
    "model = CatBoostRanker()\n",
    "model.fit(train_pool, silent=True)\n",
    "predictions = model.predict(test_pool)"
   ]
  },
  {
   "cell_type": "markdown",
   "id": "16086e8d-67fe-47a1-b649-0685af48a15d",
   "metadata": {},
   "source": [
    "Посчитаю NDCG@5"
   ]
  },
  {
   "cell_type": "code",
   "execution_count": 13,
   "id": "0650a2fe-ec04-4505-82e1-8c543b1362d6",
   "metadata": {},
   "outputs": [],
   "source": [
    "def calculate_ndcg5(true_relevance, predictions, groups):\n",
    "    unique_groups = np.unique(groups)\n",
    "    score, count = 0, 0\n",
    "    \n",
    "    for group in unique_groups:\n",
    "        group_mask = groups == group\n",
    "        if len(true_relevance[group_mask]) > 1:\n",
    "            count += 1\n",
    "            score += ndcg_score([true_relevance[group_mask]], [predictions[group_mask]])\n",
    "    \n",
    "    return score / count"
   ]
  },
  {
   "cell_type": "code",
   "execution_count": 14,
   "id": "bb90515f-8c60-4ebc-9160-eeda12bee7ac",
   "metadata": {},
   "outputs": [
    {
     "name": "stdout",
     "output_type": "stream",
     "text": [
      "NDCG@5 score: 0.7366217489349192\n"
     ]
    }
   ],
   "source": [
    "print(\"NDCG@5 score:\", calculate_ndcg5(y_test, predictions, queries_test))"
   ]
  }
 ],
 "metadata": {
  "kernelspec": {
   "display_name": "Python 3 (ipykernel)",
   "language": "python",
   "name": "python3"
  },
  "language_info": {
   "codemirror_mode": {
    "name": "ipython",
    "version": 3
   },
   "file_extension": ".py",
   "mimetype": "text/x-python",
   "name": "python",
   "nbconvert_exporter": "python",
   "pygments_lexer": "ipython3",
   "version": "3.12.2"
  }
 },
 "nbformat": 4,
 "nbformat_minor": 5
}
